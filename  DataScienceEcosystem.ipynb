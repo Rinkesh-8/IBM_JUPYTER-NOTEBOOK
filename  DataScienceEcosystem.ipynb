{
 "cells": [
  {
   "cell_type": "markdown",
   "id": "4a5f4b94",
   "metadata": {},
   "source": [
    "# Data Science Tools and Ecosystem"
   ]
  },
  {
   "cell_type": "markdown",
   "id": "f70a23bd",
   "metadata": {},
   "source": [
    "### In this notebook, Data Science Tools and Ecosystem are summarized."
   ]
  },
  {
   "cell_type": "markdown",
   "id": "16c836fe",
   "metadata": {},
   "source": [
    "**Objectives:**\n",
    "\n",
    "- List popular languages that Data Scientists use.\n",
    "- List commonly used libraries used by Data Scientists.\n",
    "- Comment on Data Science tools."
   ]
  },
  {
   "cell_type": "markdown",
   "id": "77d328f5",
   "metadata": {},
   "source": [
    "### Some of the popular languages that Data Scientists use are:\n",
    "\n",
    "1. Python\n",
    "2. R\n",
    "3. SQL\n",
    "4. Java"
   ]
  },
  {
   "cell_type": "markdown",
   "id": "b503c801",
   "metadata": {},
   "source": [
    "### Some of the commonly used libraries used by Data Scientists include\n",
    "\n",
    "1. TensorFlow.\n",
    "2. NumPy.\n",
    "3. SciPy.\n",
    "4. Pandas.\n",
    "5. Matplotlib.\n",
    "6. Keras.\n",
    "7. SciKit-Learn.\n",
    "8. PyTorch.\n",
    "9. Scrapy.\n",
    "10. BeautifulSoup."
   ]
  },
  {
   "cell_type": "markdown",
   "id": "03096bdd",
   "metadata": {},
   "source": [
    "|**Data Science Tools** |  \n",
    "|------ | \n",
    "|Apache Spark | \n",
    "|BigML | \n",
    "|SAS  |   "
   ]
  },
  {
   "cell_type": "markdown",
   "id": "41f45c1e",
   "metadata": {},
   "source": [
    "### Below are a few examples of evaluating arithmetic expressions in Python"
   ]
  },
  {
   "cell_type": "code",
   "execution_count": 2,
   "id": "25bca543",
   "metadata": {},
   "outputs": [
    {
     "data": {
      "text/plain": [
       "17"
      ]
     },
     "execution_count": 2,
     "metadata": {},
     "output_type": "execute_result"
    }
   ],
   "source": [
    "# This a simple arithmetic expression to mutiply then add integers\n",
    "(3*4)+5"
   ]
  },
  {
   "cell_type": "code",
   "execution_count": 3,
   "id": "1622e44b",
   "metadata": {},
   "outputs": [
    {
     "name": "stdout",
     "output_type": "stream",
     "text": [
      "3.3333333333333335\n"
     ]
    }
   ],
   "source": [
    "# This will convert 200 minutes to hours by diving by 60\n",
    "a = (200/60)\n",
    "print(a)"
   ]
  },
  {
   "cell_type": "markdown",
   "id": "bf77daee",
   "metadata": {},
   "source": [
    "## Author:\n",
    "\n",
    "RinkeshKumar Patel"
   ]
  },
  {
   "cell_type": "code",
   "execution_count": null,
   "id": "11e7393e",
   "metadata": {},
   "outputs": [],
   "source": []
  }
 ],
 "metadata": {
  "kernelspec": {
   "display_name": "Python 3 (ipykernel)",
   "language": "python",
   "name": "python3"
  },
  "language_info": {
   "codemirror_mode": {
    "name": "ipython",
    "version": 3
   },
   "file_extension": ".py",
   "mimetype": "text/x-python",
   "name": "python",
   "nbconvert_exporter": "python",
   "pygments_lexer": "ipython3",
   "version": "3.10.12"
  }
 },
 "nbformat": 4,
 "nbformat_minor": 5
}
